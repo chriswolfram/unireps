{
 "cells": [
  {
   "cell_type": "code",
   "execution_count": 1,
   "metadata": {},
   "outputs": [],
   "source": [
    "import os\n",
    "import sys\n",
    "sys.path.append(os.path.abspath(os.path.join('..')))\n",
    "\n",
    "import unireps\n",
    "import torch\n",
    "import datasets\n",
    "\n",
    "# project_dir = '/Users/christopher/Documents/unireps'\n",
    "project_dir = '/net/scratch2/chriswolfram/unireps'\n",
    "unireps.set_hf_cache_directory(os.path.join(project_dir, 'hf_cache'))\n",
    "unireps.set_datasets_directory(os.path.join(project_dir, 'datasets'))\n",
    "unireps.set_outputs_directory(os.path.join(project_dir, 'outputs'))\n",
    "\n",
    "datasets.disable_caching()"
   ]
  },
  {
   "cell_type": "markdown",
   "metadata": {},
   "source": [
    "### Models"
   ]
  },
  {
   "cell_type": "code",
   "execution_count": 2,
   "metadata": {},
   "outputs": [],
   "source": [
    "model_names = [\n",
    "    \"openai-community/gpt2\",\n",
    "    \"google/gemma-2b\",\n",
    "    \"google/gemma-7b\",\n",
    "    \"google/gemma-2-2b\",\n",
    "    \"google/gemma-2-9b\",\n",
    "    \"google/gemma-2-9b-it\",\n",
    "    \"google/gemma-2-27b\",\n",
    "    \"meta-llama/Meta-Llama-3.1-8B\",\n",
    "    \"meta-llama/Meta-Llama-3.1-8B-Instruct\",\n",
    "    \"meta-llama/Llama-3.2-1B\",\n",
    "    \"meta-llama/Llama-3.2-3B\",\n",
    "    \"meta-llama/Llama-3.2-3B-Instruct\",\n",
    "    \"meta-llama/Llama-3.2-11B-Vision\",\n",
    "    \"mistralai/Mistral-7B-v0.3\",\n",
    "    \"mistralai/Mistral-Nemo-Base-2407\",\n",
    "    \"mistralai/Mixtral-8x7B-v0.1\",\n",
    "    \"microsoft/Phi-3-mini-4k-instruct\",\n",
    "    \"microsoft/Phi-3-medium-4k-instruct\",\n",
    "    \"microsoft/Phi-3.5-mini-instruct\",\n",
    "    \"tiiuae/falcon-40b\",\n",
    "    \"tiiuae/falcon-11B\",\n",
    "    \"meta-llama/Llama-3.1-70B\",\n",
    "    \"meta-llama/Llama-3.1-70B-Instruct\",\n",
    "    \"meta-llama/Llama-3.3-70B-Instruct\",\n",
    "    \"tiiuae/falcon-mamba-7b\"\n",
    "]\n",
    "\n",
    "chat_models = [\n",
    "    \"google/gemma-2-9b-it\",\n",
    "    \"meta-llama/Meta-Llama-3.1-8B-Instruct\",\n",
    "    \"meta-llama/Llama-3.2-3B-Instruct\",\n",
    "    \"microsoft/Phi-3-mini-4k-instruct\",\n",
    "    \"microsoft/Phi-3-medium-4k-instruct\",\n",
    "    \"microsoft/Phi-3.5-mini-instruct\",\n",
    "    \"meta-llama/Llama-3.1-70B-Instruct\",\n",
    "    \"meta-llama/Llama-3.3-70B-Instruct\"\n",
    "]\n",
    "\n",
    "dataset_names = [\n",
    "    \"web_text\",\n",
    "    \"web_text_caesar\",\n",
    "    \"imdb\",\n",
    "    \"random_strings\",\n",
    "    \"book_translations_en\",\n",
    "    \"book_translations_de\",\n",
    "    \"common_words\"\n",
    "]"
   ]
  },
  {
   "cell_type": "markdown",
   "metadata": {},
   "source": [
    "## Scratch space"
   ]
  },
  {
   "cell_type": "code",
   "execution_count": 3,
   "metadata": {},
   "outputs": [
    {
     "data": {
      "text/plain": [
       "['openai-community/gpt2',\n",
       " 'google/gemma-2b',\n",
       " 'google/gemma-7b',\n",
       " 'google/gemma-2-2b',\n",
       " 'google/gemma-2-9b',\n",
       " 'google/gemma-2-9b-it',\n",
       " 'google/gemma-2-27b',\n",
       " 'meta-llama/Meta-Llama-3.1-8B',\n",
       " 'meta-llama/Meta-Llama-3.1-8B-Instruct',\n",
       " 'meta-llama/Llama-3.2-1B',\n",
       " 'meta-llama/Llama-3.2-3B',\n",
       " 'meta-llama/Llama-3.2-3B-Instruct',\n",
       " 'meta-llama/Llama-3.2-11B-Vision',\n",
       " 'mistralai/Mistral-7B-v0.3',\n",
       " 'mistralai/Mistral-Nemo-Base-2407',\n",
       " 'mistralai/Mixtral-8x7B-v0.1',\n",
       " 'microsoft/Phi-3-mini-4k-instruct',\n",
       " 'microsoft/Phi-3-medium-4k-instruct',\n",
       " 'microsoft/Phi-3.5-mini-instruct',\n",
       " 'tiiuae/falcon-40b',\n",
       " 'tiiuae/falcon-11B',\n",
       " 'meta-llama/Llama-3.1-70B',\n",
       " 'meta-llama/Llama-3.1-70B-Instruct',\n",
       " 'meta-llama/Llama-3.3-70B-Instruct',\n",
       " 'tiiuae/falcon-mamba-7b']"
      ]
     },
     "execution_count": 3,
     "metadata": {},
     "output_type": "execute_result"
    }
   ],
   "source": [
    "model_names"
   ]
  },
  {
   "cell_type": "code",
   "execution_count": 11,
   "metadata": {},
   "outputs": [
    {
     "data": {
      "text/plain": [
       "315621376"
      ]
     },
     "execution_count": 11,
     "metadata": {},
     "output_type": "execute_result"
    }
   ],
   "source": [
    "unireps.dataset_embs(unireps.get_dataset('google/gemma-2-9b', 'web_text'), layer=None).flatten().shape[0]"
   ]
  },
  {
   "cell_type": "code",
   "execution_count": 10,
   "metadata": {},
   "outputs": [
    {
     "data": {
      "text/plain": [
       "torch.float32"
      ]
     },
     "execution_count": 10,
     "metadata": {},
     "output_type": "execute_result"
    }
   ],
   "source": [
    "unireps.dataset_embs(unireps.get_dataset('google/gemma-2-9b', 'web_text'), layer=None).dtype"
   ]
  },
  {
   "cell_type": "code",
   "execution_count": 6,
   "metadata": {},
   "outputs": [
    {
     "data": {
      "text/plain": [
       "tensor(0)"
      ]
     },
     "execution_count": 6,
     "metadata": {},
     "output_type": "execute_result"
    }
   ],
   "source": [
    "unireps.get_dataset('google/gemma-2-9b', 'web_text')['at_max_length'].sum()"
   ]
  },
  {
   "cell_type": "code",
   "execution_count": 3,
   "metadata": {},
   "outputs": [],
   "source": [
    "ds1 = unireps.get_dataset('google/gemma-2-9b', 'web_text')\n",
    "knn_1 = unireps.embs_knn(unireps.dataset_embs(ds1), k=10)"
   ]
  },
  {
   "cell_type": "code",
   "execution_count": 4,
   "metadata": {},
   "outputs": [],
   "source": [
    "ds2 = unireps.get_dataset('meta-llama/Meta-Llama-3.1-8B', 'web_text')\n",
    "knn_2 = unireps.embs_knn(unireps.dataset_embs(ds2), k=10)"
   ]
  },
  {
   "cell_type": "code",
   "execution_count": 5,
   "metadata": {},
   "outputs": [
    {
     "data": {
      "text/plain": [
       "0.45341795682907104"
      ]
     },
     "execution_count": 5,
     "metadata": {},
     "output_type": "execute_result"
    }
   ],
   "source": [
    "unireps.mutual_knn(knn_1[10], knn_2[10])"
   ]
  },
  {
   "cell_type": "code",
   "execution_count": 7,
   "metadata": {},
   "outputs": [
    {
     "ename": "TypeError",
     "evalue": "expected Tensor as element 0 in argument 0, but got float",
     "output_type": "error",
     "traceback": [
      "\u001b[0;31m---------------------------------------------------------------------------\u001b[0m",
      "\u001b[0;31mTypeError\u001b[0m                                 Traceback (most recent call last)",
      "Cell \u001b[0;32mIn[7], line 1\u001b[0m\n\u001b[0;32m----> 1\u001b[0m \u001b[43munireps\u001b[49m\u001b[38;5;241;43m.\u001b[39;49m\u001b[43mmutual_knn\u001b[49m\u001b[43m(\u001b[49m\u001b[43mknn_1\u001b[49m\u001b[43m,\u001b[49m\u001b[43m \u001b[49m\u001b[43mknn_2\u001b[49m\u001b[43m[\u001b[49m\u001b[38;5;241;43m0\u001b[39;49m\u001b[43m]\u001b[49m\u001b[43m)\u001b[49m\n",
      "File \u001b[0;32m~/unireps/unireps/similarity.py:31\u001b[0m, in \u001b[0;36mmutual_knn\u001b[0;34m(knn_mat_1, knn_mat_2)\u001b[0m\n\u001b[1;32m     30\u001b[0m \u001b[38;5;28;01mdef\u001b[39;00m \u001b[38;5;21mmutual_knn\u001b[39m(knn_mat_1, knn_mat_2):\n\u001b[0;32m---> 31\u001b[0m     out \u001b[38;5;241m=\u001b[39m \u001b[43m_mutual_knn_tensor\u001b[49m\u001b[43m(\u001b[49m\u001b[43mknn_mat_1\u001b[49m\u001b[43m,\u001b[49m\u001b[43m \u001b[49m\u001b[43mknn_mat_2\u001b[49m\u001b[43m)\u001b[49m\n\u001b[1;32m     32\u001b[0m     \u001b[38;5;28;01mif\u001b[39;00m out\u001b[38;5;241m.\u001b[39mdim() \u001b[38;5;241m==\u001b[39m \u001b[38;5;241m0\u001b[39m:\n\u001b[1;32m     33\u001b[0m         \u001b[38;5;28;01mreturn\u001b[39;00m out\u001b[38;5;241m.\u001b[39mitem()\n",
      "File \u001b[0;32m~/unireps/unireps/similarity.py:15\u001b[0m, in \u001b[0;36m_mutual_knn_tensor\u001b[0;34m(knn_mat_1, knn_mat_2)\u001b[0m\n\u001b[1;32m     13\u001b[0m \u001b[38;5;28;01mdef\u001b[39;00m \u001b[38;5;21m_mutual_knn_tensor\u001b[39m(knn_mat_1, knn_mat_2):\n\u001b[1;32m     14\u001b[0m     \u001b[38;5;28;01mif\u001b[39;00m \u001b[38;5;28mlen\u001b[39m(knn_mat_1\u001b[38;5;241m.\u001b[39mshape) \u001b[38;5;241m==\u001b[39m \u001b[38;5;241m3\u001b[39m:\n\u001b[0;32m---> 15\u001b[0m         \u001b[38;5;28;01mreturn\u001b[39;00m \u001b[43mtorch\u001b[49m\u001b[38;5;241;43m.\u001b[39;49m\u001b[43mstack\u001b[49m\u001b[43m(\u001b[49m\u001b[43m[\u001b[49m\u001b[43mmutual_knn\u001b[49m\u001b[43m(\u001b[49m\u001b[43mknn_1\u001b[49m\u001b[43m,\u001b[49m\u001b[43m \u001b[49m\u001b[43mknn_mat_2\u001b[49m\u001b[43m)\u001b[49m\u001b[43m \u001b[49m\u001b[38;5;28;43;01mfor\u001b[39;49;00m\u001b[43m \u001b[49m\u001b[43mknn_1\u001b[49m\u001b[43m \u001b[49m\u001b[38;5;129;43;01min\u001b[39;49;00m\u001b[43m \u001b[49m\u001b[43mknn_mat_1\u001b[49m\u001b[43m]\u001b[49m\u001b[43m)\u001b[49m\n\u001b[1;32m     17\u001b[0m     \u001b[38;5;28;01mif\u001b[39;00m \u001b[38;5;28mlen\u001b[39m(knn_mat_2\u001b[38;5;241m.\u001b[39mshape) \u001b[38;5;241m==\u001b[39m \u001b[38;5;241m3\u001b[39m:\n\u001b[1;32m     18\u001b[0m         \u001b[38;5;28;01mreturn\u001b[39;00m torch\u001b[38;5;241m.\u001b[39mstack([mutual_knn(knn_mat_1, knn_2) \u001b[38;5;28;01mfor\u001b[39;00m knn_2 \u001b[38;5;129;01min\u001b[39;00m knn_mat_2])\n",
      "\u001b[0;31mTypeError\u001b[0m: expected Tensor as element 0 in argument 0, but got float"
     ]
    }
   ],
   "source": [
    "unireps.mutual_knn(knn_1, knn_2[0])"
   ]
  },
  {
   "cell_type": "code",
   "execution_count": null,
   "metadata": {},
   "outputs": [],
   "source": [
    "unireps.mutual_knn(knn_1, knn_2[0])"
   ]
  },
  {
   "cell_type": "code",
   "execution_count": 2,
   "metadata": {},
   "outputs": [],
   "source": [
    "embs_1 = unireps.dataset_embs(unireps.get_dataset('google/gemma-2-9b', 'web_text'), layer=None)"
   ]
  },
  {
   "cell_type": "code",
   "execution_count": 3,
   "metadata": {},
   "outputs": [],
   "source": [
    "knn = unireps.embs_knn(embs_1, k=10)"
   ]
  },
  {
   "cell_type": "code",
   "execution_count": 5,
   "metadata": {},
   "outputs": [],
   "source": [
    "knn_1 = unireps.embs_knn(embs_1[0], k=10)"
   ]
  },
  {
   "cell_type": "code",
   "execution_count": 10,
   "metadata": {},
   "outputs": [
    {
     "data": {
      "text/plain": [
       "tensor([[True, True, True,  ..., True, True, True],\n",
       "        [True, True, True,  ..., True, True, True],\n",
       "        [True, True, True,  ..., True, True, True],\n",
       "        ...,\n",
       "        [True, True, True,  ..., True, True, True],\n",
       "        [True, True, True,  ..., True, True, True],\n",
       "        [True, True, True,  ..., True, True, True]])"
      ]
     },
     "execution_count": 10,
     "metadata": {},
     "output_type": "execute_result"
    }
   ],
   "source": [
    "knn[0] == knn_1"
   ]
  },
  {
   "cell_type": "code",
   "execution_count": 4,
   "metadata": {},
   "outputs": [
    {
     "data": {
      "text/plain": [
       "torch.Size([43, 2048, 10])"
      ]
     },
     "execution_count": 4,
     "metadata": {},
     "output_type": "execute_result"
    }
   ],
   "source": [
    "knn.shape"
   ]
  },
  {
   "cell_type": "code",
   "execution_count": 6,
   "metadata": {},
   "outputs": [
    {
     "data": {
      "text/plain": [
       "torch.Size([2048, 10])"
      ]
     },
     "execution_count": 6,
     "metadata": {},
     "output_type": "execute_result"
    }
   ],
   "source": [
    "knn_1.shape"
   ]
  },
  {
   "cell_type": "code",
   "execution_count": 7,
   "metadata": {},
   "outputs": [
    {
     "data": {
      "text/plain": [
       "torch.Size([43, 2048, 3584])"
      ]
     },
     "execution_count": 7,
     "metadata": {},
     "output_type": "execute_result"
    }
   ],
   "source": [
    "embs_1.shape"
   ]
  },
  {
   "cell_type": "code",
   "execution_count": 14,
   "metadata": {},
   "outputs": [
    {
     "data": {
      "text/plain": [
       "3"
      ]
     },
     "execution_count": 14,
     "metadata": {},
     "output_type": "execute_result"
    }
   ],
   "source": [
    "knn.dim()"
   ]
  },
  {
   "cell_type": "code",
   "execution_count": null,
   "metadata": {},
   "outputs": [],
   "source": []
  }
 ],
 "metadata": {
  "kernelspec": {
   "display_name": ".venv",
   "language": "python",
   "name": "python3"
  },
  "language_info": {
   "codemirror_mode": {
    "name": "ipython",
    "version": 3
   },
   "file_extension": ".py",
   "mimetype": "text/x-python",
   "name": "python",
   "nbconvert_exporter": "python",
   "pygments_lexer": "ipython3",
   "version": "3.10.12"
  }
 },
 "nbformat": 4,
 "nbformat_minor": 2
}
