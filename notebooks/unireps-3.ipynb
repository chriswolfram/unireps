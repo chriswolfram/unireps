{
 "cells": [
  {
   "cell_type": "code",
   "execution_count": 1,
   "metadata": {},
   "outputs": [],
   "source": [
    "import os\n",
    "import sys\n",
    "sys.path.append(os.path.abspath(os.path.join('..')))\n",
    "\n",
    "import unireps\n",
    "import torch\n",
    "import datasets\n",
    "\n",
    "# project_dir = '/Users/christopher/Documents/unireps'\n",
    "project_dir = '/net/scratch2/chriswolfram/unireps'\n",
    "unireps.set_hf_cache_directory(os.path.join(project_dir, 'hf_cache'))\n",
    "unireps.set_datasets_directory(os.path.join(project_dir, 'datasets'))\n",
    "unireps.set_outputs_directory(os.path.join(project_dir, 'outputs'))\n",
    "\n",
    "datasets.disable_caching()"
   ]
  },
  {
   "cell_type": "markdown",
   "metadata": {},
   "source": [
    "### Models"
   ]
  },
  {
   "cell_type": "code",
   "execution_count": 2,
   "metadata": {},
   "outputs": [],
   "source": [
    "model_names = [\n",
    "    \"openai-community/gpt2\",\n",
    "    \"google/gemma-2b\",\n",
    "    \"google/gemma-7b\",\n",
    "    \"google/gemma-2-2b\",\n",
    "    \"google/gemma-2-9b\",\n",
    "    \"google/gemma-2-9b-it\",\n",
    "    \"google/gemma-2-27b\",\n",
    "    \"meta-llama/Meta-Llama-3.1-8B\",\n",
    "    \"meta-llama/Meta-Llama-3.1-8B-Instruct\",\n",
    "    \"meta-llama/Llama-3.2-1B\",\n",
    "    \"meta-llama/Llama-3.2-3B\",\n",
    "    \"meta-llama/Llama-3.2-3B-Instruct\",\n",
    "    \"meta-llama/Llama-3.2-11B-Vision\",\n",
    "    \"mistralai/Mistral-7B-v0.3\",\n",
    "    \"mistralai/Mistral-Nemo-Base-2407\",\n",
    "    \"mistralai/Mixtral-8x7B-v0.1\",\n",
    "    \"microsoft/Phi-3-mini-4k-instruct\",\n",
    "    \"microsoft/Phi-3-medium-4k-instruct\",\n",
    "    \"microsoft/Phi-3.5-mini-instruct\",\n",
    "    \"tiiuae/falcon-40b\",\n",
    "    \"tiiuae/falcon-11B\",\n",
    "    \"meta-llama/Llama-3.1-70B\",\n",
    "    \"meta-llama/Llama-3.1-70B-Instruct\",\n",
    "    \"meta-llama/Llama-3.3-70B-Instruct\",\n",
    "    \"tiiuae/falcon-mamba-7b\"\n",
    "]\n",
    "\n",
    "chat_models = [\n",
    "    \"google/gemma-2-9b-it\",\n",
    "    \"meta-llama/Meta-Llama-3.1-8B-Instruct\",\n",
    "    \"meta-llama/Llama-3.2-3B-Instruct\",\n",
    "    \"microsoft/Phi-3-mini-4k-instruct\",\n",
    "    \"microsoft/Phi-3-medium-4k-instruct\",\n",
    "    \"microsoft/Phi-3.5-mini-instruct\",\n",
    "    \"meta-llama/Llama-3.1-70B-Instruct\",\n",
    "    \"meta-llama/Llama-3.3-70B-Instruct\"\n",
    "]\n",
    "\n",
    "dataset_names = [\n",
    "    \"web_text\",\n",
    "    \"web_text_caesar\",\n",
    "    \"imdb\",\n",
    "    \"random_strings\",\n",
    "    \"book_translations_en\",\n",
    "    \"book_translations_de\",\n",
    "    \"common_words\"\n",
    "]"
   ]
  },
  {
   "cell_type": "markdown",
   "metadata": {},
   "source": [
    "## Scratch space"
   ]
  },
  {
   "cell_type": "code",
   "execution_count": 3,
   "metadata": {},
   "outputs": [
    {
     "data": {
      "text/plain": [
       "['openai-community/gpt2',\n",
       " 'google/gemma-2b',\n",
       " 'google/gemma-7b',\n",
       " 'google/gemma-2-2b',\n",
       " 'google/gemma-2-9b',\n",
       " 'google/gemma-2-9b-it',\n",
       " 'google/gemma-2-27b',\n",
       " 'meta-llama/Meta-Llama-3.1-8B',\n",
       " 'meta-llama/Meta-Llama-3.1-8B-Instruct',\n",
       " 'meta-llama/Llama-3.2-1B',\n",
       " 'meta-llama/Llama-3.2-3B',\n",
       " 'meta-llama/Llama-3.2-3B-Instruct',\n",
       " 'meta-llama/Llama-3.2-11B-Vision',\n",
       " 'mistralai/Mistral-7B-v0.3',\n",
       " 'mistralai/Mistral-Nemo-Base-2407',\n",
       " 'mistralai/Mixtral-8x7B-v0.1',\n",
       " 'microsoft/Phi-3-mini-4k-instruct',\n",
       " 'microsoft/Phi-3-medium-4k-instruct',\n",
       " 'microsoft/Phi-3.5-mini-instruct',\n",
       " 'tiiuae/falcon-40b',\n",
       " 'tiiuae/falcon-11B',\n",
       " 'meta-llama/Llama-3.1-70B',\n",
       " 'meta-llama/Llama-3.1-70B-Instruct',\n",
       " 'meta-llama/Llama-3.3-70B-Instruct',\n",
       " 'tiiuae/falcon-mamba-7b']"
      ]
     },
     "execution_count": 3,
     "metadata": {},
     "output_type": "execute_result"
    }
   ],
   "source": [
    "model_names"
   ]
  },
  {
   "cell_type": "code",
   "execution_count": 11,
   "metadata": {},
   "outputs": [
    {
     "data": {
      "text/plain": [
       "315621376"
      ]
     },
     "execution_count": 11,
     "metadata": {},
     "output_type": "execute_result"
    }
   ],
   "source": [
    "unireps.dataset_embs(unireps.get_dataset('google/gemma-2-9b', 'web_text'), layer=None).flatten().shape[0]"
   ]
  },
  {
   "cell_type": "code",
   "execution_count": 10,
   "metadata": {},
   "outputs": [
    {
     "data": {
      "text/plain": [
       "torch.float32"
      ]
     },
     "execution_count": 10,
     "metadata": {},
     "output_type": "execute_result"
    }
   ],
   "source": [
    "unireps.dataset_embs(unireps.get_dataset('google/gemma-2-9b', 'web_text'), layer=None).dtype"
   ]
  },
  {
   "cell_type": "code",
   "execution_count": 6,
   "metadata": {},
   "outputs": [
    {
     "data": {
      "text/plain": [
       "tensor(0)"
      ]
     },
     "execution_count": 6,
     "metadata": {},
     "output_type": "execute_result"
    }
   ],
   "source": [
    "unireps.get_dataset('google/gemma-2-9b', 'web_text')['at_max_length'].sum()"
   ]
  },
  {
   "cell_type": "code",
   "execution_count": null,
   "metadata": {},
   "outputs": [],
   "source": []
  }
 ],
 "metadata": {
  "kernelspec": {
   "display_name": ".venv",
   "language": "python",
   "name": "python3"
  },
  "language_info": {
   "codemirror_mode": {
    "name": "ipython",
    "version": 3
   },
   "file_extension": ".py",
   "mimetype": "text/x-python",
   "name": "python",
   "nbconvert_exporter": "python",
   "pygments_lexer": "ipython3",
   "version": "3.10.12"
  }
 },
 "nbformat": 4,
 "nbformat_minor": 2
}
